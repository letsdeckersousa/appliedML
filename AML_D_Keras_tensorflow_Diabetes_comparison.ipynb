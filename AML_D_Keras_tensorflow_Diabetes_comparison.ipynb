{
 "cells": [
  {
   "cell_type": "markdown",
   "metadata": {},
   "source": [
    "## Comparison between Keras and Tensorflow Implementation for PIMA Diabetes Indians Dataset"
   ]
  },
  {
   "cell_type": "markdown",
   "metadata": {},
   "source": [
    "This notebook compares the implementation of Keras and Tensorflow for the Pima Diabetes Indians Dataset. The neural network configuration is the same to the both approaches in two different use cases. \n",
    "\n",
    "For all of them, we have a neural network with 3 layers with 12, 8, 1 neurons. The first and second layers use the relu function and the third uses sigmoid function. Using training_epochs = 150 and:\n",
    "\n",
    "Case 1:  \n",
    "batch_size = 10\n",
    "\n",
    "Optimizer function: AdamOptimizer\n",
    "\n",
    "Case 2:\n",
    "batch_size = 5\n",
    "\n",
    "Optimizer function: RMSPropOptimizer\n",
    "\n",
    "In the end, we have the graphic comparison of the two cases for the two libraries."
   ]
  },
  {
   "cell_type": "markdown",
   "metadata": {},
   "source": [
    "## Implementation using Keras without optimization"
   ]
  },
  {
   "cell_type": "code",
   "execution_count": 1,
   "metadata": {},
   "outputs": [
    {
     "name": "stderr",
     "output_type": "stream",
     "text": [
      "/anaconda2/lib/python2.7/site-packages/h5py/__init__.py:36: FutureWarning: Conversion of the second argument of issubdtype from `float` to `np.floating` is deprecated. In future, it will be treated as `np.float64 == np.dtype(float).type`.\n",
      "  from ._conv import register_converters as _register_converters\n",
      "Using TensorFlow backend.\n"
     ]
    }
   ],
   "source": [
    "# MLP for Pima Indians Dataset with 10-fold cross validation via sklearn\n",
    "from keras.models import Sequential\n",
    "from keras.layers import Dense\n",
    "from keras.wrappers.scikit_learn import KerasClassifier\n",
    "from sklearn.model_selection import StratifiedKFold\n",
    "from sklearn.model_selection import cross_val_score\n",
    "import numpy\n",
    "import csv\n",
    "import pandas as pd"
   ]
  },
  {
   "cell_type": "code",
   "execution_count": 2,
   "metadata": {},
   "outputs": [],
   "source": [
    "# Function to create model, required for KerasClassifier\n",
    "def create_model():\n",
    "    # create model\n",
    "    model = Sequential()\n",
    "    model.add(Dense(12, input_dim=8, activation='relu'))\n",
    "    model.add(Dense(8, activation='relu'))\n",
    "    model.add(Dense(1, activation='sigmoid'))\n",
    "    # Compile model\n",
    "    model.compile(loss='binary_crossentropy', optimizer='adam', metrics=['accuracy'])\n",
    "    return model"
   ]
  },
  {
   "cell_type": "code",
   "execution_count": 3,
   "metadata": {},
   "outputs": [],
   "source": [
    "# fix random seed for reproducibility\n",
    "seed = 7\n",
    "numpy.random.seed(seed)"
   ]
  },
  {
   "cell_type": "code",
   "execution_count": 4,
   "metadata": {},
   "outputs": [],
   "source": [
    "filename = 'pima-indians-diabetes.data.csv'\n",
    "names = ['Pregnancies', 'Glucose', 'BloodPressure', 'SkinThickness', 'Insulin', 'BMI', 'DiabetesPedigreeFunction', 'Age', 'Outcome']\n",
    "\n",
    "df = pd.read_csv(filename, names=names)\n",
    "array = df.values\n",
    "X = array[:,0:8]\n",
    "y = array[:,8]"
   ]
  },
  {
   "cell_type": "code",
   "execution_count": 5,
   "metadata": {
    "scrolled": true
   },
   "outputs": [
    {
     "name": "stdout",
     "output_type": "stream",
     "text": [
      "Accurance: 69.261791 +-(5.508766)\n"
     ]
    }
   ],
   "source": [
    "# create model\n",
    "model = KerasClassifier(build_fn=create_model, epochs=150, batch_size=10, verbose=0)\n",
    "# evaluate using 10-fold cross validation\n",
    "kfold = StratifiedKFold(n_splits=10, shuffle=True, random_state=seed)\n",
    "results = cross_val_score(model, X, y, cv=kfold)\n",
    "print \"Accurance: %f +-(%f)\"%(results.mean()*100, results.std()*100)"
   ]
  },
  {
   "cell_type": "markdown",
   "metadata": {},
   "source": [
    "This might take about 5 minutes to complete on your workstation executed on the CPU."
   ]
  },
  {
   "cell_type": "code",
   "execution_count": 6,
   "metadata": {},
   "outputs": [],
   "source": [
    "meanKeras = results.mean()*100\n",
    "stdKeras = results.std()*100"
   ]
  },
  {
   "cell_type": "markdown",
   "metadata": {},
   "source": [
    "# Version of Tensorflow\n",
    "\n",
    "reference: https://www.kaggle.com/zgo2016/pima-tensorflow?scriptVersionId=1373301"
   ]
  },
  {
   "cell_type": "markdown",
   "metadata": {},
   "source": [
    "This Python 3 environment comes with many helpful analytics libraries installed\n",
    "It is defined by the kaggle/python docker image: https://github.com/kaggle/docker-python\n",
    "For example, here's several helpful packages to load in \n",
    "\n",
    "Input data files are available in the \"../input/\" directory.\n",
    "For example, running this (by clicking run or pressing Shift+Enter) will list the files in the input directory\n",
    "\n",
    "Any results you write to the current directory are saved as output."
   ]
  },
  {
   "cell_type": "markdown",
   "metadata": {},
   "source": [
    "## Implementation using Tensorflow without optimization"
   ]
  },
  {
   "cell_type": "code",
   "execution_count": 7,
   "metadata": {},
   "outputs": [
    {
     "name": "stderr",
     "output_type": "stream",
     "text": [
      "/anaconda2/lib/python2.7/site-packages/sklearn/cross_validation.py:41: DeprecationWarning: This module was deprecated in version 0.18 in favor of the model_selection module into which all the refactored classes and functions are moved. Also note that the interface of the new CV iterators are different from that of this module. This module will be removed in 0.20.\n",
      "  \"This module will be removed in 0.20.\", DeprecationWarning)\n"
     ]
    }
   ],
   "source": [
    "from subprocess import check_output\n",
    "\n",
    "import csv\n",
    "import tensorflow as tf\n",
    "import random\n",
    "import pandas as pd\n",
    "import numpy as np\n",
    "from time import time\n",
    "\n",
    "from sklearn import preprocessing\n",
    "from sklearn.cross_validation import train_test_split\n",
    "from sklearn.svm import SVC, LinearSVC\n",
    "from sklearn.metrics import accuracy_score\n",
    "\n",
    "from tensorflow.contrib import layers\n",
    "from tensorflow.contrib import learn\n",
    "import statistics"
   ]
  },
  {
   "cell_type": "code",
   "execution_count": 8,
   "metadata": {},
   "outputs": [],
   "source": [
    "# set the random seed\n",
    "seeds = [1, 2, 3, 4, 5, 6, 7, 8, 9, 10]\n",
    "np.random.seed(seeds[6])"
   ]
  },
  {
   "cell_type": "code",
   "execution_count": 9,
   "metadata": {},
   "outputs": [],
   "source": [
    "# load the dataset\n",
    "filename = 'pima-indians-diabetes.data.csv'\n",
    "# all the features and the Outcome - the binary classification \n",
    "names = ['Pregnancies', 'Glucose', 'BloodPressure', 'SkinThickness', 'Insulin', 'BMI', 'DiabetesPedigreeFunction', 'Age', 'Outcome']\n",
    "df = pd.read_csv(filename, names=names)\n",
    "array = df.values\n",
    "\n",
    "# X is the feature set and Y is the respective class set \n",
    "X = array[:,0:8]"
   ]
  },
  {
   "cell_type": "code",
   "execution_count": 10,
   "metadata": {
    "scrolled": true
   },
   "outputs": [],
   "source": [
    "df['NotDiabetes'] = 1 - df['Outcome']\n",
    "# modify the y -> 2 columns: have diabeter and not have diabetes\n",
    "Y = df[['Outcome', 'NotDiabetes']]"
   ]
  },
  {
   "cell_type": "code",
   "execution_count": 11,
   "metadata": {},
   "outputs": [],
   "source": [
    "# Needed for the placeholder in the following boxes\n",
    "X_train, X_test, y_train, y_test = train_test_split(X, Y, test_size=0.33, random_state=seed)\n",
    "learning_rate = tf.train.exponential_decay(learning_rate=0.01,\n",
    "                                           global_step=1,\n",
    "                                           decay_steps=X_train.shape[0],\n",
    "                                           decay_rate=0.95,\n",
    "                                           staircase=True)"
   ]
  },
  {
   "cell_type": "code",
   "execution_count": 12,
   "metadata": {},
   "outputs": [],
   "source": [
    "# Parameters\n",
    "training_epochs = 150\n",
    "batch_size = 10\n",
    "# the step in which the epoch cost is printed\n",
    "display_step = 50"
   ]
  },
  {
   "cell_type": "code",
   "execution_count": 13,
   "metadata": {},
   "outputs": [],
   "source": [
    "# Neural Network Parameters\n",
    "n_hidden_1 = 12\n",
    "n_hidden_2 = 8\n",
    "n_hidden_3 = 1\n",
    "# Needed for the placeholder in the next box\n",
    "# how many features: 8\n",
    "n_input = X_train.shape[1]\n",
    "# how many classes: 2\n",
    "n_classes = y_train.shape[1]\n",
    "dropout = 0.05"
   ]
  },
  {
   "cell_type": "code",
   "execution_count": 14,
   "metadata": {},
   "outputs": [],
   "source": [
    "# So far we have used Variables to manage our data, but there is a more basic structure, the placeholder. \n",
    "# A placeholder is simply a variable that we will assign data to at a later date. It allows us to create our \n",
    "# operations and build our computation graph, without needing the data. In TensorFlow terminology, we then feed \n",
    "# data into the graph through these placeholders.\n",
    "\n",
    "# TensorFlow Graph input\n",
    "x = tf.placeholder(\"float\", [None, n_input])\n",
    "y = tf.placeholder(\"float\")\n",
    "keep_prob = tf.placeholder(tf.float32)"
   ]
  },
  {
   "cell_type": "code",
   "execution_count": 15,
   "metadata": {},
   "outputs": [],
   "source": [
    "# Create NN model \n",
    "# First and second layers: relu and third layer: sigmoid\n",
    "def neural_network(x, weights, biases, dropout):\n",
    "    # Hidden layer with relu activation\n",
    "    layer_1 = tf.add(tf.matmul(x, weights['h1']), biases['b1'])\n",
    "    layer_1 = tf.nn.relu(layer_1)\n",
    "    # Hidden layer with relu activation\n",
    "    layer_2 = tf.add(tf.matmul(layer_1, weights['h2']), biases['b2'])\n",
    "    layer_2 = tf.nn.relu(layer_2)\n",
    "\n",
    "    layer_3 = tf.add(tf.matmul(layer_2, weights['h3']), biases['b3'])\n",
    "    layer_3 = tf.nn.sigmoid(layer_3)\n",
    "\n",
    "    out_layer = tf.matmul(layer_3, weights['out']) + biases['out']\n",
    "\n",
    "    return out_layer"
   ]
  },
  {
   "cell_type": "code",
   "execution_count": 16,
   "metadata": {},
   "outputs": [],
   "source": [
    "# Layers weight and bias\n",
    "weights = {\n",
    "    'h1': tf.Variable(tf.random_uniform(shape=(n_input,n_hidden_1),minval=0, maxval=0.005, dtype=tf.float32, seed=0)),\n",
    "    'h2': tf.Variable(tf.random_uniform(shape=(n_hidden_1, n_hidden_2),minval=0, maxval=0.005, dtype=tf.float32, seed=0)),\n",
    "    'h3': tf.Variable(tf.random_uniform(shape=(n_hidden_2, n_hidden_3),minval=0, maxval=0.005, dtype=tf.float32, seed=0)),\n",
    "    'out': tf.Variable(tf.random_uniform(shape=(n_hidden_3, n_classes),minval=0, maxval=0.005, dtype=tf.float32, seed=0))\n",
    "}\n",
    "\n",
    "biases = {\n",
    "    'b1': tf.Variable(tf.random_uniform([n_hidden_1])),\n",
    "    'b2': tf.Variable(tf.random_uniform([n_hidden_2])),\n",
    "    'b3': tf.Variable(tf.random_uniform([n_hidden_3])),\n",
    "    'out': tf.Variable(tf.random_uniform([n_classes]))\n",
    "}"
   ]
  },
  {
   "cell_type": "code",
   "execution_count": 17,
   "metadata": {},
   "outputs": [],
   "source": [
    "# Constructing model\n",
    "pred = neural_network(x, weights, biases, keep_prob)"
   ]
  },
  {
   "cell_type": "code",
   "execution_count": 18,
   "metadata": {
    "scrolled": false
   },
   "outputs": [
    {
     "name": "stdout",
     "output_type": "stream",
     "text": [
      "WARNING:tensorflow:From <ipython-input-18-a75c7e15ad31>:2: softmax_cross_entropy_with_logits (from tensorflow.python.ops.nn_ops) is deprecated and will be removed in a future version.\n",
      "Instructions for updating:\n",
      "\n",
      "Future major versions of TensorFlow will allow gradients to flow\n",
      "into the labels input on backprop by default.\n",
      "\n",
      "See @{tf.nn.softmax_cross_entropy_with_logits_v2}.\n",
      "\n"
     ]
    }
   ],
   "source": [
    "# Defining loss and optimizer - AdamOptimizer\n",
    "cost = tf.nn.l2_loss(tf.nn.softmax_cross_entropy_with_logits(logits=pred, labels=y))\n",
    "optimizer = tf.train.AdamOptimizer(learning_rate=learning_rate).minimize(cost)"
   ]
  },
  {
   "cell_type": "code",
   "execution_count": 19,
   "metadata": {},
   "outputs": [],
   "source": [
    "# Initializing the variables\n",
    "init = tf.global_variables_initializer()"
   ]
  },
  {
   "cell_type": "code",
   "execution_count": 20,
   "metadata": {
    "scrolled": true
   },
   "outputs": [
    {
     "name": "stdout",
     "output_type": "stream",
     "text": [
      "('epoch:', '1', 'cost=', '2.2897')\n",
      "('epoch:', '51', 'cost=', '2.2829')\n",
      "('epoch:', '101', 'cost=', '2.2829')\n",
      "('Accuracy:', 63.77952694892883)\n",
      "('epoch:', '1', 'cost=', '2.3322')\n",
      "('epoch:', '51', 'cost=', '2.3141')\n",
      "('epoch:', '101', 'cost=', '2.3141')\n",
      "('Accuracy:', 67.32283234596252)\n",
      "('epoch:', '1', 'cost=', '2.2760')\n",
      "('epoch:', '51', 'cost=', '2.2270')\n",
      "('epoch:', '101', 'cost=', '2.2249')\n",
      "('Accuracy:', 58.26771855354309)\n",
      "('epoch:', '1', 'cost=', '2.3361')\n",
      "('epoch:', '51', 'cost=', '2.3111')\n",
      "('epoch:', '101', 'cost=', '2.3102')\n",
      "('Accuracy:', 67.32283234596252)\n",
      "('epoch:', '1', 'cost=', '2.7944')\n",
      "('epoch:', '51', 'cost=', '2.3359')\n",
      "('epoch:', '101', 'cost=', '2.3359')\n",
      "('Accuracy:', 69.68504190444946)\n",
      "('epoch:', '1', 'cost=', '2.3332')\n",
      "('epoch:', '51', 'cost=', '2.3377')\n",
      "('epoch:', '101', 'cost=', '2.3377')\n",
      "('Accuracy:', 67.71653294563293)\n",
      "('epoch:', '1', 'cost=', '2.4818')\n",
      "('epoch:', '51', 'cost=', '2.2919')\n",
      "('epoch:', '101', 'cost=', '2.2919')\n",
      "('Accuracy:', 63.77952694892883)\n",
      "('epoch:', '1', 'cost=', '2.5444')\n",
      "('epoch:', '51', 'cost=', '2.3015')\n",
      "('epoch:', '101', 'cost=', '2.3016')\n",
      "('Accuracy:', 64.56692814826965)\n",
      "('epoch:', '1', 'cost=', '2.8436')\n",
      "('epoch:', '51', 'cost=', '2.2967')\n",
      "('epoch:', '101', 'cost=', '2.2968')\n",
      "('Accuracy:', 64.96062874794006)\n",
      "('epoch:', '1', 'cost=', '2.3047')\n",
      "('epoch:', '51', 'cost=', '2.2827')\n",
      "('epoch:', '101', 'cost=', '2.2827')\n",
      "('Accuracy:', 63.77952694892883)\n",
      "Accuracy: 65.118110 +-(3.161613)\n"
     ]
    }
   ],
   "source": [
    "accuracy_list_tf1 = []\n",
    "\n",
    "# In place of kfold, we can you use different seeds to generate the training and test sets.\n",
    "for i in range(len(seeds)):\n",
    "    # Changing the seed to create the new training and testing sets\n",
    "    X_train, X_test, y_train, y_test = train_test_split(X, Y, test_size=0.33, random_state=seeds[i])\n",
    "    learning_rate = tf.train.exponential_decay(learning_rate=0.01,\n",
    "                                           global_step=1,\n",
    "                                           decay_steps=X_train.shape[0],\n",
    "                                           decay_rate=0.95,\n",
    "                                           staircase=True)\n",
    "    # Running first session\n",
    "    with tf.Session() as sess:\n",
    "        sess.run(init)\n",
    "        # Training cycle\n",
    "        for epoch in range(training_epochs): #150\n",
    "            avg_cost = 0.\n",
    "            total_batch = int(len(X_train) / batch_size) #5\n",
    "\n",
    "            X_batches = np.array_split(X_train, total_batch)\n",
    "            Y_batches = np.array_split(y_train, total_batch)\n",
    "\n",
    "            # Loop over all batches\n",
    "            for i in range(total_batch):\n",
    "                batch_x, batch_y = X_batches[i], Y_batches[i]\n",
    "                # Run optimization operation (backprop) and cost operation(to get loss value)\n",
    "                _, c = sess.run([optimizer, cost], feed_dict={x: batch_x, y: batch_y, keep_prob: dropout})\n",
    "                # Compute average loss\n",
    "                avg_cost += c / total_batch\n",
    "            # Display logs per epoch step\n",
    "            if epoch % display_step == 0: #50\n",
    "                print(\"epoch:\", '%d' % (epoch + 1), \"cost=\", \"{:.4f}\".format(avg_cost))\n",
    "\n",
    "        # Test model\n",
    "        correct_prediction = tf.equal(tf.argmax(pred, 1), tf.argmax(y, 1))\n",
    "\n",
    "        # Calculate accuracy\n",
    "        accuracy = tf.reduce_mean(tf.cast(correct_prediction, tf.float32))\n",
    "        print(\"Accuracy:\", accuracy.eval({x: X_test, y: y_test, keep_prob: 1})*100)\n",
    "        accuracy_list_tf1.append(accuracy.eval({x: X_test, y: y_test, keep_prob: 1})*100)\n",
    "\n",
    "meanTF = statistics.mean(accuracy_list_tf1)\n",
    "stdTF  = statistics.stdev(accuracy_list_tf1)\n",
    "print \"Accuracy: %f +-(%f)\"%(meanTF, stdTF)"
   ]
  },
  {
   "cell_type": "markdown",
   "metadata": {},
   "source": [
    "## Grid Search Deep Learning Model Parameters"
   ]
  },
  {
   "cell_type": "code",
   "execution_count": 21,
   "metadata": {},
   "outputs": [],
   "source": [
    "# MLP for Pima Indians Dataset with grid search via sklearn\n",
    "from keras.models import Sequential\n",
    "from keras.layers import Dense\n",
    "from keras.wrappers.scikit_learn import KerasClassifier\n",
    "from sklearn.model_selection import GridSearchCV\n",
    "import numpy"
   ]
  },
  {
   "cell_type": "code",
   "execution_count": 22,
   "metadata": {},
   "outputs": [],
   "source": [
    "# Function to create model, required for KerasClassifier\n",
    "def create_model(optimizer='rmsprop', init='glorot_uniform'):\n",
    "    # create model\n",
    "    model = Sequential()\n",
    "    model.add(Dense(12, input_dim=8, kernel_initializer=init, activation='relu'))\n",
    "    model.add(Dense(8, kernel_initializer=init, activation='relu'))\n",
    "    model.add(Dense(1, kernel_initializer=init, activation='sigmoid'))\n",
    "    # Compile model\n",
    "    model.compile(loss='binary_crossentropy', optimizer=optimizer, metrics=['accuracy'])\n",
    "    return model"
   ]
  },
  {
   "cell_type": "code",
   "execution_count": 23,
   "metadata": {},
   "outputs": [],
   "source": [
    "# fix random seed for reproducibility\n",
    "seed = 7\n",
    "numpy.random.seed(seed)"
   ]
  },
  {
   "cell_type": "code",
   "execution_count": 24,
   "metadata": {},
   "outputs": [],
   "source": [
    "# load pima indians dataset\n",
    "dataset = numpy.loadtxt(\"pima-indians-diabetes.data.csv\", delimiter=\",\")\n",
    "# split into input (X) and output (Y) variables\n",
    "X = dataset[:,0:8]\n",
    "Y = dataset[:,8]"
   ]
  },
  {
   "cell_type": "code",
   "execution_count": 25,
   "metadata": {},
   "outputs": [],
   "source": [
    "# create model\n",
    "model = KerasClassifier(build_fn=create_model, verbose=0)\n",
    "# grid search epochs, batch size and optimizer\n",
    "optimizers = ['rmsprop', 'adam']\n",
    "inits = ['glorot_uniform', 'normal', 'uniform']\n",
    "epochs = [50, 100, 150]\n",
    "batches = [5, 10, 20]\n",
    "param_grid = dict(optimizer=optimizers, epochs=epochs, batch_size=batches, init=inits)\n",
    "grid = GridSearchCV(estimator=model, param_grid=param_grid)\n",
    "grid_result = grid.fit(X, Y)"
   ]
  },
  {
   "cell_type": "code",
   "execution_count": 26,
   "metadata": {},
   "outputs": [
    {
     "name": "stdout",
     "output_type": "stream",
     "text": [
      "Best: 0.755208 using {'epochs': 150, 'init': 'uniform', 'optimizer': 'rmsprop', 'batch_size': 5}\n",
      "0.692708 (0.012075) with: {'epochs': 50, 'init': 'glorot_uniform', 'optimizer': 'rmsprop', 'batch_size': 5}\n",
      "0.680990 (0.045814) with: {'epochs': 50, 'init': 'glorot_uniform', 'optimizer': 'adam', 'batch_size': 5}\n",
      "0.697917 (0.015073) with: {'epochs': 50, 'init': 'normal', 'optimizer': 'rmsprop', 'batch_size': 5}\n",
      "0.722656 (0.015947) with: {'epochs': 50, 'init': 'normal', 'optimizer': 'adam', 'batch_size': 5}\n",
      "0.712240 (0.017566) with: {'epochs': 50, 'init': 'uniform', 'optimizer': 'rmsprop', 'batch_size': 5}\n",
      "0.714844 (0.005524) with: {'epochs': 50, 'init': 'uniform', 'optimizer': 'adam', 'batch_size': 5}\n",
      "0.697917 (0.015733) with: {'epochs': 100, 'init': 'glorot_uniform', 'optimizer': 'rmsprop', 'batch_size': 5}\n",
      "0.670573 (0.041010) with: {'epochs': 100, 'init': 'glorot_uniform', 'optimizer': 'adam', 'batch_size': 5}\n",
      "0.731771 (0.010253) with: {'epochs': 100, 'init': 'normal', 'optimizer': 'rmsprop', 'batch_size': 5}\n",
      "0.733073 (0.018136) with: {'epochs': 100, 'init': 'normal', 'optimizer': 'adam', 'batch_size': 5}\n",
      "0.733073 (0.010253) with: {'epochs': 100, 'init': 'uniform', 'optimizer': 'rmsprop', 'batch_size': 5}\n",
      "0.747396 (0.027498) with: {'epochs': 100, 'init': 'uniform', 'optimizer': 'adam', 'batch_size': 5}\n",
      "0.710938 (0.032369) with: {'epochs': 150, 'init': 'glorot_uniform', 'optimizer': 'rmsprop', 'batch_size': 5}\n",
      "0.696615 (0.041626) with: {'epochs': 150, 'init': 'glorot_uniform', 'optimizer': 'adam', 'batch_size': 5}\n",
      "0.725260 (0.009207) with: {'epochs': 150, 'init': 'normal', 'optimizer': 'rmsprop', 'batch_size': 5}\n",
      "0.753906 (0.024910) with: {'epochs': 150, 'init': 'normal', 'optimizer': 'adam', 'batch_size': 5}\n",
      "0.755208 (0.012075) with: {'epochs': 150, 'init': 'uniform', 'optimizer': 'rmsprop', 'batch_size': 5}\n",
      "0.736979 (0.019225) with: {'epochs': 150, 'init': 'uniform', 'optimizer': 'adam', 'batch_size': 5}\n",
      "0.660156 (0.033146) with: {'epochs': 50, 'init': 'glorot_uniform', 'optimizer': 'rmsprop', 'batch_size': 10}\n",
      "0.648438 (0.025315) with: {'epochs': 50, 'init': 'glorot_uniform', 'optimizer': 'adam', 'batch_size': 10}\n",
      "0.691406 (0.011049) with: {'epochs': 50, 'init': 'normal', 'optimizer': 'rmsprop', 'batch_size': 10}\n",
      "0.696615 (0.015733) with: {'epochs': 50, 'init': 'normal', 'optimizer': 'adam', 'batch_size': 10}\n",
      "0.708333 (0.024360) with: {'epochs': 50, 'init': 'uniform', 'optimizer': 'rmsprop', 'batch_size': 10}\n",
      "0.697917 (0.014382) with: {'epochs': 50, 'init': 'uniform', 'optimizer': 'adam', 'batch_size': 10}\n",
      "0.666667 (0.023939) with: {'epochs': 100, 'init': 'glorot_uniform', 'optimizer': 'rmsprop', 'batch_size': 10}\n",
      "0.561198 (0.169501) with: {'epochs': 100, 'init': 'glorot_uniform', 'optimizer': 'adam', 'batch_size': 10}\n",
      "0.694010 (0.030314) with: {'epochs': 100, 'init': 'normal', 'optimizer': 'rmsprop', 'batch_size': 10}\n",
      "0.731771 (0.033197) with: {'epochs': 100, 'init': 'normal', 'optimizer': 'adam', 'batch_size': 10}\n",
      "0.717448 (0.009744) with: {'epochs': 100, 'init': 'uniform', 'optimizer': 'rmsprop', 'batch_size': 10}\n",
      "0.700521 (0.010253) with: {'epochs': 100, 'init': 'uniform', 'optimizer': 'adam', 'batch_size': 10}\n",
      "0.694010 (0.011201) with: {'epochs': 150, 'init': 'glorot_uniform', 'optimizer': 'rmsprop', 'batch_size': 10}\n",
      "0.696615 (0.014731) with: {'epochs': 150, 'init': 'glorot_uniform', 'optimizer': 'adam', 'batch_size': 10}\n",
      "0.738281 (0.024080) with: {'epochs': 150, 'init': 'normal', 'optimizer': 'rmsprop', 'batch_size': 10}\n",
      "0.714844 (0.011500) with: {'epochs': 150, 'init': 'normal', 'optimizer': 'adam', 'batch_size': 10}\n",
      "0.743490 (0.025582) with: {'epochs': 150, 'init': 'uniform', 'optimizer': 'rmsprop', 'batch_size': 10}\n",
      "0.746094 (0.032369) with: {'epochs': 150, 'init': 'uniform', 'optimizer': 'adam', 'batch_size': 10}\n",
      "0.597656 (0.151993) with: {'epochs': 50, 'init': 'glorot_uniform', 'optimizer': 'rmsprop', 'batch_size': 20}\n",
      "0.661458 (0.023939) with: {'epochs': 50, 'init': 'glorot_uniform', 'optimizer': 'adam', 'batch_size': 20}\n",
      "0.674479 (0.016367) with: {'epochs': 50, 'init': 'normal', 'optimizer': 'rmsprop', 'batch_size': 20}\n",
      "0.692708 (0.022628) with: {'epochs': 50, 'init': 'normal', 'optimizer': 'adam', 'batch_size': 20}\n",
      "0.695312 (0.016877) with: {'epochs': 50, 'init': 'uniform', 'optimizer': 'rmsprop', 'batch_size': 20}\n",
      "0.694010 (0.014382) with: {'epochs': 50, 'init': 'uniform', 'optimizer': 'adam', 'batch_size': 20}\n",
      "0.666667 (0.038051) with: {'epochs': 100, 'init': 'glorot_uniform', 'optimizer': 'rmsprop', 'batch_size': 20}\n",
      "0.680990 (0.016053) with: {'epochs': 100, 'init': 'glorot_uniform', 'optimizer': 'adam', 'batch_size': 20}\n",
      "0.714844 (0.015947) with: {'epochs': 100, 'init': 'normal', 'optimizer': 'rmsprop', 'batch_size': 20}\n",
      "0.710938 (0.009568) with: {'epochs': 100, 'init': 'normal', 'optimizer': 'adam', 'batch_size': 20}\n",
      "0.721354 (0.012890) with: {'epochs': 100, 'init': 'uniform', 'optimizer': 'rmsprop', 'batch_size': 20}\n",
      "0.717448 (0.017566) with: {'epochs': 100, 'init': 'uniform', 'optimizer': 'adam', 'batch_size': 20}\n",
      "0.678385 (0.018136) with: {'epochs': 150, 'init': 'glorot_uniform', 'optimizer': 'rmsprop', 'batch_size': 20}\n",
      "0.714844 (0.022326) with: {'epochs': 150, 'init': 'glorot_uniform', 'optimizer': 'adam', 'batch_size': 20}\n",
      "0.733073 (0.031948) with: {'epochs': 150, 'init': 'normal', 'optimizer': 'rmsprop', 'batch_size': 20}\n",
      "0.720052 (0.029635) with: {'epochs': 150, 'init': 'normal', 'optimizer': 'adam', 'batch_size': 20}\n",
      "0.718750 (0.016573) with: {'epochs': 150, 'init': 'uniform', 'optimizer': 'rmsprop', 'batch_size': 20}\n",
      "0.726562 (0.022097) with: {'epochs': 150, 'init': 'uniform', 'optimizer': 'adam', 'batch_size': 20}\n"
     ]
    }
   ],
   "source": [
    "# summarize results\n",
    "print(\"Best: %f using %s\" % (grid_result.best_score_, grid_result.best_params_))\n",
    "means = grid_result.cv_results_['mean_test_score']\n",
    "stds = grid_result.cv_results_['std_test_score']\n",
    "params = grid_result.cv_results_['params']\n",
    "meanKerasOpt = 0\n",
    "stdsKerasOpt = 0\n",
    "for mean, stdev, param in zip(means, stds, params):\n",
    "    if meanKerasOpt < mean:\n",
    "        meanKerasOpt = mean\n",
    "        stdsKerasOpt = stdev       \n",
    "    print(\"%f (%f) with: %r\" % (mean, stdev, param))\n",
    "meanKerasOpt*=100\n",
    "stdsKerasOpt*=100"
   ]
  },
  {
   "cell_type": "markdown",
   "metadata": {},
   "source": [
    "This might take about 5 minutes to complete on your workstation executed on the CPU. "
   ]
  },
  {
   "cell_type": "markdown",
   "metadata": {},
   "source": [
    "## Implementation using Tensorflow with optimization"
   ]
  },
  {
   "cell_type": "markdown",
   "metadata": {},
   "source": [
    "0.755208 using {'epochs': 150, 'init': 'uniform', 'optimizer': 'rmsprop', 'batch_size': 5}"
   ]
  },
  {
   "cell_type": "code",
   "execution_count": 27,
   "metadata": {},
   "outputs": [],
   "source": [
    "from subprocess import check_output\n",
    "\n",
    "import csv\n",
    "import tensorflow as tf\n",
    "import random\n",
    "import pandas as pd\n",
    "import numpy as np\n",
    "from time import time\n",
    "\n",
    "from sklearn import preprocessing\n",
    "from sklearn.cross_validation import train_test_split\n",
    "from sklearn.svm import SVC, LinearSVC\n",
    "from sklearn.metrics import accuracy_score\n",
    "\n",
    "from tensorflow.contrib import layers\n",
    "from tensorflow.contrib import learn\n",
    "import statistics"
   ]
  },
  {
   "cell_type": "code",
   "execution_count": 28,
   "metadata": {},
   "outputs": [],
   "source": [
    "# set the random seed\n",
    "seeds = [1, 2, 3, 4, 5, 6, 7, 8, 9, 10]\n",
    "np.random.seed(seeds[6])"
   ]
  },
  {
   "cell_type": "code",
   "execution_count": 29,
   "metadata": {},
   "outputs": [],
   "source": [
    "# load the dataset\n",
    "filename = 'pima-indians-diabetes.data.csv'\n",
    "# all the features and the Outcome - the binary classification \n",
    "names = ['Pregnancies', 'Glucose', 'BloodPressure', 'SkinThickness', 'Insulin', 'BMI', 'DiabetesPedigreeFunction', 'Age', 'Outcome']\n",
    "df = pd.read_csv(filename, names=names)\n",
    "array = df.values\n",
    "\n",
    "# X is the feature set and Y is the respective class set \n",
    "X = array[:,0:8]"
   ]
  },
  {
   "cell_type": "code",
   "execution_count": 30,
   "metadata": {},
   "outputs": [],
   "source": [
    "# One more column\n",
    "df['NotDiabetes'] = 1 - df['Outcome']\n",
    "# modify the y - 2 columns: have diabeter and not have diabetes\n",
    "Y = df[['Outcome', 'NotDiabetes']]"
   ]
  },
  {
   "cell_type": "code",
   "execution_count": 31,
   "metadata": {},
   "outputs": [],
   "source": [
    "# Parameters\n",
    "training_epochs = 150\n",
    "batch_size = 5 #10\n",
    "# the step in which the epoch cost is printed\n",
    "display_step = 50 #10"
   ]
  },
  {
   "cell_type": "code",
   "execution_count": 32,
   "metadata": {},
   "outputs": [],
   "source": [
    "# Needed for the placeholder in the following boxes\n",
    "X_train, X_test, y_train, y_test = train_test_split(X, Y, test_size=0.33, random_state=seed)\n",
    "learning_rate = tf.train.exponential_decay(learning_rate=0.01,\n",
    "                                           global_step=1,\n",
    "                                           decay_steps=X_train.shape[0],\n",
    "                                           decay_rate=0.95,\n",
    "                                           staircase=True)"
   ]
  },
  {
   "cell_type": "code",
   "execution_count": 33,
   "metadata": {},
   "outputs": [],
   "source": [
    "# Neural Network Parameters\n",
    "n_hidden_1 = 12\n",
    "n_hidden_2 = 8\n",
    "n_hidden_3 = 1\n",
    "# Needed in the next box for the placeholder\n",
    "# how many features: 8\n",
    "n_input = X_train.shape[1]\n",
    "# how many classes: 2\n",
    "n_classes = y_train.shape[1]\n",
    "dropout = 0.05"
   ]
  },
  {
   "cell_type": "code",
   "execution_count": 34,
   "metadata": {},
   "outputs": [],
   "source": [
    "# So far we have used Variables to manage our data, but there is a more basic structure, the placeholder. \n",
    "# A placeholder is simply a variable that we will assign data to at a later date. It allows us to create our \n",
    "# operations and build our computation graph, without needing the data. In TensorFlow terminology, we then feed \n",
    "# data into the graph through these placeholders.\n",
    "\n",
    "# TensorFlow Graph input\n",
    "x = tf.placeholder(\"float\", [None, n_input])\n",
    "y = tf.placeholder(\"float\")\n",
    "\n",
    "keep_prob = tf.placeholder(tf.float32)"
   ]
  },
  {
   "cell_type": "code",
   "execution_count": 35,
   "metadata": {},
   "outputs": [],
   "source": [
    "# Create NN model \n",
    "# First and second layers: relu\n",
    "# third layer: sigmoid\n",
    "def neural_network(x, weights, biases, dropout):\n",
    "    # Hidden layer with relu activation\n",
    "    layer_1 = tf.add(tf.matmul(x, weights['h1']), biases['b1'])\n",
    "    layer_1 = tf.nn.relu(layer_1)\n",
    "    # Hidden layer with relu activation\n",
    "    layer_2 = tf.add(tf.matmul(layer_1, weights['h2']), biases['b2'])\n",
    "    layer_2 = tf.nn.relu(layer_2)\n",
    "\n",
    "    layer_3 = tf.add(tf.matmul(layer_2, weights['h3']), biases['b3'])\n",
    "    layer_3 = tf.nn.sigmoid(layer_3)\n",
    "\n",
    "    out_layer = tf.matmul(layer_3, weights['out']) + biases['out']\n",
    "\n",
    "    #out_layer = tf.nn.dropout(out_layer, dropout)\n",
    "    return out_layer"
   ]
  },
  {
   "cell_type": "code",
   "execution_count": 36,
   "metadata": {},
   "outputs": [],
   "source": [
    "# Layers weight and bias\n",
    "weights = {\n",
    "    'h1': tf.Variable(tf.random_uniform(shape=(n_input,n_hidden_1),minval=0, maxval=0.005, dtype=tf.float32, seed=0)),\n",
    "    'h2': tf.Variable(tf.random_uniform(shape=(n_hidden_1, n_hidden_2),minval=0, maxval=0.005, dtype=tf.float32, seed=0)),\n",
    "    'h3': tf.Variable(tf.random_uniform(shape=(n_hidden_2, n_hidden_3),minval=0, maxval=0.005, dtype=tf.float32, seed=0)),\n",
    "    'out': tf.Variable(tf.random_uniform(shape=(n_hidden_3, n_classes),minval=0, maxval=0.005, dtype=tf.float32, seed=0))\n",
    "}\n",
    "\n",
    "biases = {\n",
    "    'b1': tf.Variable(tf.random_uniform([n_hidden_1])),\n",
    "    'b2': tf.Variable(tf.random_uniform([n_hidden_2])),\n",
    "    'b3': tf.Variable(tf.random_uniform([n_hidden_3])),\n",
    "    'out': tf.Variable(tf.random_uniform([n_classes]))\n",
    "}"
   ]
  },
  {
   "cell_type": "code",
   "execution_count": 37,
   "metadata": {},
   "outputs": [],
   "source": [
    "# Constructing model\n",
    "pred = neural_network(x, weights, biases, keep_prob)"
   ]
  },
  {
   "cell_type": "code",
   "execution_count": 38,
   "metadata": {},
   "outputs": [],
   "source": [
    "# Defining loss and optimizer\n",
    "cost = tf.nn.l2_loss(tf.nn.softmax_cross_entropy_with_logits(logits=pred, labels=y))\n",
    "optimizer2 = tf.train.RMSPropOptimizer(learning_rate=learning_rate).minimize(cost)"
   ]
  },
  {
   "cell_type": "code",
   "execution_count": 39,
   "metadata": {},
   "outputs": [],
   "source": [
    "# Initializing the variables\n",
    "init = tf.global_variables_initializer()"
   ]
  },
  {
   "cell_type": "code",
   "execution_count": 40,
   "metadata": {
    "scrolled": true
   },
   "outputs": [
    {
     "name": "stdout",
     "output_type": "stream",
     "text": [
      "('epoch:', '1', 'cost=', '1.1451')\n",
      "('epoch:', '51', 'cost=', '1.1256')\n",
      "('epoch:', '101', 'cost=', '1.1472')\n",
      "('Accuracy:', 63.77952694892883)\n",
      "('epoch:', '1', 'cost=', '1.1591')\n",
      "('epoch:', '51', 'cost=', '0.9367')\n",
      "('epoch:', '101', 'cost=', '0.9375')\n",
      "('Accuracy:', 74.40944910049438)\n",
      "('epoch:', '1', 'cost=', '1.1356')\n",
      "('epoch:', '51', 'cost=', '1.1159')\n",
      "('epoch:', '101', 'cost=', '1.1156')\n",
      "('Accuracy:', 58.26771855354309)\n",
      "('epoch:', '1', 'cost=', '1.1852')\n",
      "('epoch:', '51', 'cost=', '1.1606')\n",
      "('epoch:', '101', 'cost=', '1.1606')\n",
      "('Accuracy:', 67.32283234596252)\n",
      "('epoch:', '1', 'cost=', '1.1755')\n",
      "('epoch:', '51', 'cost=', '1.1522')\n",
      "('epoch:', '101', 'cost=', '1.0725')\n",
      "('Accuracy:', 70.8661437034607)\n",
      "('epoch:', '1', 'cost=', '1.1601')\n",
      "('epoch:', '51', 'cost=', '0.9775')\n",
      "('epoch:', '101', 'cost=', '0.9817')\n",
      "('Accuracy:', 77.95275449752808)\n",
      "('epoch:', '1', 'cost=', '1.2241')\n",
      "('epoch:', '51', 'cost=', '1.1458')\n",
      "('epoch:', '101', 'cost=', '1.1457')\n",
      "('Accuracy:', 63.77952694892883)\n",
      "('epoch:', '1', 'cost=', '1.2059')\n",
      "('epoch:', '51', 'cost=', '1.1494')\n",
      "('epoch:', '101', 'cost=', '1.1432')\n",
      "('Accuracy:', 65.74802994728088)\n",
      "('epoch:', '1', 'cost=', '1.1576')\n",
      "('epoch:', '51', 'cost=', '1.0917')\n",
      "('epoch:', '101', 'cost=', '1.0757')\n",
      "('Accuracy:', 65.74802994728088)\n",
      "('epoch:', '1', 'cost=', '1.1588')\n",
      "('epoch:', '51', 'cost=', '1.1437')\n",
      "('epoch:', '101', 'cost=', '1.1437')\n",
      "('Accuracy:', 63.77952694892883)\n",
      "Accuracy: 67.165354 +-(5.774874)\n"
     ]
    }
   ],
   "source": [
    "accuracy_list_tf2 = []\n",
    "\n",
    "# In place of kfold, we can you use different seeds to generate the training and test sets.\n",
    "for i in range(len(seeds)):\n",
    "    # Changing the seed to create the new training and testing sets\n",
    "    X_train, X_test, y_train, y_test = train_test_split(X, Y, test_size=0.33, random_state=seeds[i])\n",
    "    learning_rate = tf.train.exponential_decay(learning_rate=0.01,\n",
    "                                           global_step=1,\n",
    "                                           decay_steps=X_train.shape[0],\n",
    "                                           decay_rate=0.95,\n",
    "                                           staircase=True)\n",
    "    # Running first session\n",
    "    with tf.Session() as sess:\n",
    "        sess.run(init)\n",
    "        # Training cycle\n",
    "        for epoch in range(training_epochs):\n",
    "            avg_cost = 0.\n",
    "            total_batch = int(len(X_train) / batch_size)\n",
    "\n",
    "            X_batches = np.array_split(X_train, total_batch)\n",
    "            Y_batches = np.array_split(y_train, total_batch)\n",
    "\n",
    "            # Loop over all batches\n",
    "            for i in range(total_batch):\n",
    "                batch_x, batch_y = X_batches[i], Y_batches[i]\n",
    "                # Run optimization operation (backprop) and cost operation(to get loss value)\n",
    "                _, c = sess.run([optimizer2, cost], feed_dict={x: batch_x, y: batch_y, keep_prob: dropout})\n",
    "                # Compute average loss\n",
    "                avg_cost += c / total_batch\n",
    "            # Display logs per epoch step\n",
    "            if epoch % display_step == 0:\n",
    "                print(\"epoch:\", '%d' % (epoch + 1), \"cost=\", \"{:.4f}\".format(avg_cost))\n",
    "\n",
    "        # Test model\n",
    "        correct_prediction2 = tf.equal(tf.argmax(pred, 1), tf.argmax(y, 1))\n",
    "\n",
    "        # Calculate accuracy\n",
    "        accuracy2 = tf.reduce_mean(tf.cast(correct_prediction2, tf.float32))\n",
    "        print(\"Accuracy:\", accuracy2.eval({x: X_test, y: y_test, keep_prob: 1})*100)\n",
    "        accuracy_list_tf2.append(accuracy2.eval({x: X_test, y: y_test, keep_prob: 1})*100)\n",
    "\n",
    "meanTFOpt = statistics.mean(accuracy_list_tf2)\n",
    "stdTFOpt  = statistics.stdev(accuracy_list_tf2)\n",
    "print \"Accuracy: %f +-(%f)\"%(meanTFOpt, stdTFOpt)"
   ]
  },
  {
   "cell_type": "markdown",
   "metadata": {},
   "source": [
    "## Comparison between Keras and Tensorflow"
   ]
  },
  {
   "cell_type": "code",
   "execution_count": 43,
   "metadata": {},
   "outputs": [
    {
     "data": {
      "image/png": "[encoded data removed]",
      "text/plain": [
       "<Figure size 432x288 with 1 Axes>"
      ]
     },
     "metadata": {},
     "output_type": "display_data"
    }
   ],
   "source": [
    "import matplotlib.pyplot as plt\n",
    "import numpy as np\n",
    "\n",
    "y = np.array([ meanKeras, meanKerasOpt, meanTF, meanTFOpt])\n",
    "names = np.array(['keras1','keras2','tf1', 'tf2'])\n",
    "e = np.array([stdKeras, stdsKerasOpt, stdTF, stdTFOpt])\n",
    "\n",
    "plt.errorbar(names, y, e, linestyle='None', marker='^')\n",
    "\n",
    "plt.show()"
   ]
  },
  {
   "cell_type": "markdown",
   "metadata": {},
   "source": [
    "As we can see, the implementations are not statiscally different in all the cases. The strong conclusion is: Keras2 (optimized implementation of Keras) is better than the both implementation of tensorflow. All the rest results are initially inconclusive. It is necessary to make others tests to conclude which one is better than the others (t-test student for example)."
   ]
  }
 ],
 "metadata": {
  "kernelspec": {
   "display_name": "Python 2",
   "language": "python",
   "name": "python2"
  },
  "language_info": {
   "codemirror_mode": {
    "name": "ipython",
    "version": 2
   },
   "file_extension": ".py",
   "mimetype": "text/x-python",
   "name": "python",
   "nbconvert_exporter": "python",
   "pygments_lexer": "ipython2",
   "version": "2.7.15"
  }
 },
 "nbformat": 4,
 "nbformat_minor": 2
}
